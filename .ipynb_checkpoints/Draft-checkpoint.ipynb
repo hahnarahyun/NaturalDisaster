{
 "cells": [
  {
   "cell_type": "code",
   "execution_count": 45,
   "metadata": {},
   "outputs": [],
   "source": [
    "import pandas as pd\n",
    "import torch\n",
    "import numpy as np\n",
    "import matplotlib.pyplot as plt\n",
    "plt.style.use('seaborn-whitegrid')\n",
    "%matplotlib inline\n",
    "import pylab\n",
    "pylab.rcParams['figure.figsize'] = (8.25, 6)"
   ]
  },
  {
   "cell_type": "markdown",
   "metadata": {},
   "source": [
    "<h3>NOTES</h3>\n",
    "<ul>\n",
    "    <li>We may be able to extrapolate latitude and longitude to fill in the missing values based on the county they are in</li>\n",
    "    <li>We may be able to fill in missing gaps for magnitude by manually looking them up</li> \n",
    "    <li>We looked for specific county spending on infrastructure but were not able to find anything</li>\n",
    "</ul>\n",
    "    \n",
    "TODO:\n",
    "<ul>\n",
    "    <li>Compare with and without estimate property</li>\n",
    "    <li>Split all in test and training and get accuracies and errors</li>\n",
    "    <li>Make heatmap plots for wildfires and thunderstorms</li>\n",
    "    <li>include change in wind direction (azimuth) and begin and end direction</li>\n",
    "</ul>"
   ]
  },
  {
   "cell_type": "code",
   "execution_count": 46,
   "metadata": {},
   "outputs": [
    {
     "name": "stdout",
     "output_type": "stream",
     "text": [
      "<class 'pandas.core.frame.DataFrame'>\n",
      "RangeIndex: 315 entries, 0 to 314\n",
      "Data columns (total 11 columns):\n",
      "CZ_NAME_STR            315 non-null object\n",
      "BEGIN_LOCATION         315 non-null object\n",
      "BEGIN_TIME             315 non-null int64\n",
      "MAGNITUDE              315 non-null float64\n",
      "DAMAGE_PROPERTY_NUM    315 non-null int64\n",
      "DAMAGE_CROPS_NUM       315 non-null int64\n",
      "END_LOCATION           315 non-null object\n",
      "BEGIN_LAT              315 non-null float64\n",
      "BEGIN_LON              315 non-null float64\n",
      "END_LAT                315 non-null float64\n",
      "END_LON                315 non-null float64\n",
      "dtypes: float64(5), int64(3), object(3)\n",
      "memory usage: 27.1+ KB\n"
     ]
    }
   ],
   "source": [
    "# Get the data\n",
    "# column 1 = county name\n",
    "# column 2 = begin location\n",
    "# column 3 = begin date\n",
    "# column 4 = begin time\n",
    "# column 6 = magnitude\n",
    "# column 10 = property damage\n",
    "# column 11 = crops damage\n",
    "# column 29 = end location\n",
    "# column 30 = begin latitude\n",
    "# column 31 = begin longitude\n",
    "# column 32 = end latitude\n",
    "# colunn 33 = end longitude\n",
    "\n",
    "# load top 500 thunderstorms in texas from 1950 - 2018\n",
    "data = pd.read_csv(\"texas_thunderstorm.csv\", usecols=[1, 2, 2, 4, 6, 10, 11, 29, 30, 31, 32, 33])\n",
    "data.info()"
   ]
  },
  {
   "cell_type": "code",
   "execution_count": 47,
   "metadata": {},
   "outputs": [
    {
     "data": {
      "text/plain": [
       "['DAMAGE_PROPERTY_NUM']"
      ]
     },
     "execution_count": 47,
     "metadata": {},
     "output_type": "execute_result"
    }
   ],
   "source": [
    "# The outcomes\n",
    "thunderstorm_outcomes = data.iloc[:, [4]]\n",
    "\n",
    "list(thunderstorm_outcomes)"
   ]
  },
  {
   "cell_type": "code",
   "execution_count": 48,
   "metadata": {},
   "outputs": [
    {
     "data": {
      "text/plain": [
       "['BEGIN_TIME',\n",
       " 'MAGNITUDE',\n",
       " 'DAMAGE_CROPS_NUM',\n",
       " 'BEGIN_LAT',\n",
       " 'BEGIN_LON',\n",
       " 'END_LAT',\n",
       " 'END_LON']"
      ]
     },
     "execution_count": 48,
     "metadata": {},
     "output_type": "execute_result"
    }
   ],
   "source": [
    "# The predictors\n",
    "thunderstorm_predictors = data.drop(['DAMAGE_PROPERTY_NUM',\n",
    "                                     'BEGIN_LOCATION',\n",
    "                                     'END_LOCATION',\n",
    "                                     'CZ_NAME_STR'], axis=1)\n",
    "\n",
    "# NOTE: for right now crops damage is included, but we may want to see both with and without including this\n",
    "\n",
    "list(thunderstorm_predictors)"
   ]
  },
  {
   "cell_type": "code",
   "execution_count": 49,
   "metadata": {},
   "outputs": [
    {
     "name": "stdout",
     "output_type": "stream",
     "text": [
      "Shape of outcome array (315, 1)\n",
      "Shape of inputs array (315, 7)\n"
     ]
    }
   ],
   "source": [
    "# Make the outcomes into a numpy array\n",
    "outcome_array = thunderstorm_outcomes.values.astype(np.float)\n",
    "print('Shape of outcome array', outcome_array.shape)\n",
    "\n",
    "# normalize outcome\n",
    "outcome_array = (outcome_array - np.mean(outcome_array))/np.std(outcome_array)\n",
    "\n",
    "# Make that numpy array into a torch Tensor\n",
    "outcome_Tensor = torch.from_numpy(outcome_array)\n",
    "\n",
    "# Make the predictors into a numpy array\n",
    "predictors_array = thunderstorm_predictors.values\n",
    "# NOTE: we took out any missing data values in the csv \n",
    "print('Shape of inputs array', predictors_array.shape)\n",
    "\n",
    "# Normalize inputs\n",
    "predictors_array = (predictors_array - np.mean(predictors_array, axis=0))/np.std(predictors_array, axis=0)\n",
    "\n",
    "# Make that numpy array into a torch Tensor\n",
    "predictors_Tensor = torch.from_numpy(predictors_array.astype(np.float))\n",
    "\n",
    "# Convert those DoubleTensors to FloatTensors\n",
    "# Chaning outcomes from a DoubleTensor to a FloatTensor\n",
    "outcome_Tensor = outcome_Tensor.float()\n",
    "\n",
    "# Changing the predictors too\n",
    "predictors_Tensor = predictors_Tensor.float()"
   ]
  },
  {
   "cell_type": "code",
   "execution_count": 68,
   "metadata": {},
   "outputs": [],
   "source": [
    "class Net(torch.nn.Module):\n",
    "    def __init__(self):\n",
    "        super(Net, self).__init__()\n",
    "        self.fc1 = torch.nn.Linear(7, 5)\n",
    "        self.fc2 = torch.nn.Linear(5, 3)\n",
    "        self.fc3 = torch.nn.Linear(3, 1)\n",
    "        \n",
    "    def forward(self, x):\n",
    "        x = torch.nn.functional.relu(self.fc1(x))\n",
    "        x = torch.nn.functional.relu(self.fc2(x))\n",
    "        x = self.fc3(x)\n",
    "        return(x)\n",
    "    \n",
    "# Make it\n",
    "model = Net()"
   ]
  },
  {
   "cell_type": "code",
   "execution_count": 69,
   "metadata": {},
   "outputs": [],
   "source": [
    "# Define the loss function\n",
    "loss_fn = torch.nn.MSELoss(size_average = False)"
   ]
  },
  {
   "cell_type": "code",
   "execution_count": 95,
   "metadata": {},
   "outputs": [
    {
     "data": {
      "image/png": "[encoded data removed]",
      "text/plain": [
       "<Figure size 594x432 with 1 Axes>"
      ]
     },
     "metadata": {
      "needs_background": "light"
     },
     "output_type": "display_data"
    }
   ],
   "source": [
    "def train_neural_net(model, train_outcomes, train_inputs):\n",
    "    # Make an empty list to add to for each iteration\n",
    "    current_loss_value_mini = []\n",
    "    \n",
    "    # Set the optimizer\n",
    "    # originally step size was 1e-2\n",
    "    optimizer = torch.optim.Adagrad(model.parameters(), lr = 1e-1)\n",
    "    \n",
    "    # Train the neural network\n",
    "    # 100000 iterations seems to give much better results when networks is two layers deep\n",
    "    for t in range(100000):\n",
    "        # Get the current mini-batch indices\n",
    "        indices = torch.randperm(len(train_inputs))[0:50]\n",
    "        \n",
    "        # Get the current mini-batches\n",
    "        predictors_mini = train_inputs[indices]\n",
    "        outcome_mini = train_outcomes[indices]\n",
    "        \n",
    "        # Get the current predictions\n",
    "        current_pred_mini = model(predictors_mini)\n",
    "        \n",
    "        # Compute current losses and and append that to the empty list\n",
    "        current_loss_mini = loss_fn(current_pred_mini, outcome_mini)\n",
    "        current_loss_value_mini.append(current_loss_mini.data.item())\n",
    "        \n",
    "        # Zero the gradients before backwards pass\n",
    "        optimizer.zero_grad()\n",
    "        \n",
    "        # Backwards pass\n",
    "        current_loss_mini.backward()\n",
    "        \n",
    "        # Update model parameters\n",
    "        optimizer.step()\n",
    "        \n",
    "    # Get iterations as a list for x-axis of plot\n",
    "    iterations = list(range(0, 100000))\n",
    "    \n",
    "    # Convert total square error to mean square error\n",
    "    mse = (np.asarray(current_loss_value_mini) / len(predictors_mini)).tolist()\n",
    "    \n",
    "    # Plot loss versus iteration\n",
    "    plt.plot(iterations, mse)\n",
    "    plt.xlabel(\"Iteration\", size = 14)\n",
    "    plt.ylabel(\"Loss Value\", size = 14)\n",
    "    plt.xticks(fontsize = 12)\n",
    "    plt.yticks(fontsize = 12)\n",
    "    plt.title(\"How'd the Optimizing Go?\", size = 16)\n",
    "    \n",
    "train_neural_net(model, outcome_Tensor, predictors_Tensor)"
   ]
  },
  {
   "cell_type": "code",
   "execution_count": 96,
   "metadata": {},
   "outputs": [],
   "source": [
    "def plot_train_perf(train_predictors, train_obs):\n",
    "    \n",
    "    # Plots how well the model performs on training data\n",
    "    # train_predictors = the values that the model predicts from, PyTorch Tensor\n",
    "    # train_obs = what the model would ideally predict, PyTorch Tensor\n",
    "    # Returns a plot\n",
    "    \n",
    "    \n",
    "    # Get the predictions\n",
    "    train_predictors.requires_grad = False\n",
    "    train_predictions = model(train_predictors)\n",
    "    \n",
    "    # Convert that to a numpy array\n",
    "    train_predictions = train_predictions.data.numpy()\n",
    "    \n",
    "    # Put it in log-transformed scale and convert it to a list\n",
    "    train_predictions = (train_predictions*5.407597 + 7.688844).tolist()\n",
    "    \n",
    "    \n",
    "    # Put the observed outcomes in log-transformed scale\n",
    "    # and convert it to a list\n",
    "    train_obs = (train_obs.numpy()*5.407597 + 7.688844).tolist()\n",
    "    \n",
    "    \n",
    "    # Plot it\n",
    "    plt.scatter(train_obs, train_predictions, facecolors = \"none\", edgecolors = \"k\")\n",
    "    axes = plt.gca()\n",
    "    axes.set_xlim([-1, 24])\n",
    "    axes.set_ylim([-1, 24])\n",
    "    axes.set_xticks([0, 3, 6, 9, 12, 15, 18, 21, 24])\n",
    "    axes.set_yticks([0, 3, 6, 9, 12, 15, 18, 21, 24])\n",
    "    plt.xticks(fontsize = 12)\n",
    "    plt.yticks(fontsize = 12)\n",
    "    plt.plot([-1, 24], [-1, 24], 'k-', lw = 2)\n",
    "    axes.set_xlabel(\"Observed (Log-Transformed US Dollars + 1)\", size = 14)\n",
    "    axes.set_ylabel(\"Predicted (Log-Transformed US Dollars + 1)\", size = 14)\n",
    "    axes.set_title(\"Model Performance on Training Data\", size = 16)"
   ]
  },
  {
   "cell_type": "code",
   "execution_count": 97,
   "metadata": {},
   "outputs": [
    {
     "data": {
      "image/png": "[encoded data removed]",
      "text/plain": [
       "<Figure size 594x432 with 1 Axes>"
      ]
     },
     "metadata": {
      "needs_background": "light"
     },
     "output_type": "display_data"
    }
   ],
   "source": [
    "plot_train_perf(predictors_Tensor, outcome_Tensor)"
   ]
  },
  {
   "cell_type": "code",
   "execution_count": 98,
   "metadata": {},
   "outputs": [],
   "source": [
    "def compute_MSE(predictors, observed_outcomes):\n",
    "    \n",
    "    # Computes the mean squared error of the model\n",
    "    # predictors = the variables and values used in prediction\n",
    "    # observed_outcomes = what the prediction would ideally yield\n",
    "    # Returns a PyTorch Variable\n",
    "    \n",
    "    \n",
    "    # Get the validation set predictions\n",
    "    predictors.requires_grad = False\n",
    "    predictions = model(predictors)\n",
    "    \n",
    "    # Get the validation set outcomes\n",
    "    outcomes = observed_outcomes\n",
    "    \n",
    "    # Get the loss - (total) residual sum of squares\n",
    "    total_SE = loss_fn(predictions, outcomes)\n",
    "    \n",
    "    # Average that to get mean square error\n",
    "    mean_SE = total_SE / len(predictors)\n",
    "    return(mean_SE)"
   ]
  },
  {
   "cell_type": "code",
   "execution_count": 99,
   "metadata": {},
   "outputs": [
    {
     "data": {
      "text/plain": [
       "tensor(0.9940, grad_fn=<DivBackward0>)"
      ]
     },
     "execution_count": 99,
     "metadata": {},
     "output_type": "execute_result"
    }
   ],
   "source": [
    "MSE = compute_MSE(predictors_Tensor, outcome_Tensor)\n",
    "MSE"
   ]
  },
  {
   "cell_type": "code",
   "execution_count": null,
   "metadata": {},
   "outputs": [],
   "source": []
  }
 ],
 "metadata": {
  "kernelspec": {
   "display_name": "Python 3",
   "language": "python",
   "name": "python3"
  },
  "language_info": {
   "codemirror_mode": {
    "name": "ipython",
    "version": 3
   },
   "file_extension": ".py",
   "mimetype": "text/x-python",
   "name": "python",
   "nbconvert_exporter": "python",
   "pygments_lexer": "ipython3",
   "version": "3.7.2"
  }
 },
 "nbformat": 4,
 "nbformat_minor": 2
}
